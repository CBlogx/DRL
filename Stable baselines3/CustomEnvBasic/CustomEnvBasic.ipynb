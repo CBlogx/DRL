{
 "cells": [
  {
   "cell_type": "code",
   "execution_count": 30,
   "metadata": {},
   "outputs": [],
   "source": [
    "# !pip install opencv-python\n",
    "# !pip install pillow"
   ]
  },
  {
   "cell_type": "code",
   "execution_count": 53,
   "metadata": {},
   "outputs": [],
   "source": [
    "import gymnasium as gym\n",
    "import numpy as np\n",
    "from gymnasium import spaces\n",
    "from stable_baselines3.common.env_checker import check_env\n",
    "from stable_baselines3 import A2C\n",
    "from stable_baselines3.common.evaluation import evaluate_policy\n",
    "import torch as th \n",
    "\n",
    "import numpy as np\n",
    "import cv2\n",
    "from PIL import Image\n",
    "import time\n",
    "import pickle\n",
    "import matplotlib.pyplot as plt\n",
    "from matplotlib import style\n",
    "style.use('ggplot')"
   ]
  },
  {
   "cell_type": "code",
   "execution_count": 54,
   "metadata": {},
   "outputs": [],
   "source": [
    "class Cube:\n",
    "    def __init__(self, size):\n",
    "        self.size = size\n",
    "        self.x = np.random.randint(0, self.size)\n",
    "        self.y = np.random.randint(0, self.size)\n",
    "\n",
    "    def __str__(self):\n",
    "        return f'{self.x},{self.y}'\n",
    "\n",
    "    def __sub__(self, other):\n",
    "        return (self.x-other.x, self.y-other.y)\n",
    "\n",
    "    def __eq__(self, other):\n",
    "        return self.x == other.x and self.y == other.y\n",
    "\n",
    "    def action(self, choise):\n",
    "        if choise == 0:\n",
    "            self.move(x=1, y=1)\n",
    "        elif choise == 1:\n",
    "            self.move(x=-1, y=1)\n",
    "        elif choise == 2:\n",
    "            self.move(x=1, y=-1)\n",
    "        elif choise == 3:\n",
    "            self.move(x=-1, y=-1)\n",
    "        elif choise == 4:\n",
    "            self.move(x=0, y=1)\n",
    "        elif choise == 5:\n",
    "            self.move(x=0, y=-1)\n",
    "        elif choise == 6:\n",
    "            self.move(x=1, y=0)\n",
    "        elif choise == 7:\n",
    "            self.move(x=-1, y=0)\n",
    "        elif choise == 8:\n",
    "            self.move(x=-0, y=0)\n",
    "\n",
    "    def move(self, x=False, y=False):\n",
    "        if not x:\n",
    "            self.x += np.random.randint(-1, 2)\n",
    "        else:\n",
    "            self.x += x\n",
    "        if not y:\n",
    "            self.y += np.random.randint(-1, 2)\n",
    "        else:\n",
    "            self.y += y\n",
    "\n",
    "        if self.x < 0:\n",
    "            self.x = 0\n",
    "        elif self.x >= self.size:\n",
    "            self.x = self.size-1\n",
    "\n",
    "        if self.y < 0:\n",
    "            self.y = 0\n",
    "        elif self.y >= self.size:\n",
    "            self.y = self.size-1"
   ]
  },
  {
   "cell_type": "code",
   "execution_count": 55,
   "metadata": {},
   "outputs": [],
   "source": [
    "class envCube(gym.Env):\n",
    "    SIZE = 20\n",
    "    OBSERVATION_SPACE_VALUES = (SIZE, SIZE, 3)\n",
    "    ACTION_SPACE_VALUES = 9\n",
    "    RETURN_IMAGE = False\n",
    "\n",
    "    FOOD_REWARD = 25\n",
    "    ENEMY_PENALITY = -300\n",
    "    MOVE_PENALITY = -1\n",
    "\n",
    "    d = {1: (255, 0, 0), 2: (0, 255, 0), 3: (0, 0, 255)}\n",
    "\n",
    "    PLAYER_N = 1\n",
    "    FOOD_N = 2\n",
    "    ENEMY_N = 3\n",
    "\n",
    "    metadata = {\"render_modes\": [\"human\"], \"render_fps\": 30}\n",
    "\n",
    "    def __init__(self):\n",
    "        super(envCube, self).__init__()\n",
    "        # Define action and observation space\n",
    "        # They must be gym.spaces objects\n",
    "        # Example when using discrete actions:\n",
    "        self.action_space = spaces.Discrete(self.ACTION_SPACE_VALUES)\n",
    "        # Example for using image as input (channel-first; channel-last also works):\n",
    "        # self.observation_space = spaces.Box(\n",
    "        #     low=0, high=255, shape=(N_CHANNELS, HEIGHT, WIDTH), dtype=np.uint8\n",
    "        # )\n",
    "        self.observation_space = spaces.Box(\n",
    "            low=-self.SIZE + 1, high=self.SIZE - 1, shape=(4,), dtype=int\n",
    "        )\n",
    "\n",
    "    def reset(self, seed=None):\n",
    "        self.player = Cube(self.SIZE)\n",
    "        self.food = Cube(self.SIZE)\n",
    "        while self.food == self.player:\n",
    "            self.food = Cube(self.SIZE)\n",
    "\n",
    "        self.enemy = Cube(self.SIZE)\n",
    "        while self.enemy == self.player or self.enemy == self.food:\n",
    "            self.enemy = Cube(self.SIZE)\n",
    "\n",
    "        if self.RETURN_IMAGE:\n",
    "            observation = np.array(self.get_image())\n",
    "        else:\n",
    "            observation = (self.player - self.food) + (self.player - self.enemy)\n",
    "        observation = np.array(observation)\n",
    "        self.episode_step = 0\n",
    "        info = {}\n",
    "        return observation, info\n",
    "\n",
    "    def step(self, action):\n",
    "        self.episode_step += 1\n",
    "        self.player.action(action)\n",
    "        self.food.move()\n",
    "        self.enemy.move()\n",
    "\n",
    "        if self.RETURN_IMAGE:\n",
    "            new_observation = np.array(self.get_image())\n",
    "        else:\n",
    "            new_observation = (self.player - self.food) + (self.player - self.enemy)\n",
    "\n",
    "        new_observation = np.array(new_observation)\n",
    "        if self.player == self.food:\n",
    "            reward = self.FOOD_REWARD\n",
    "        elif self.player == self.enemy:\n",
    "            reward = self.ENEMY_PENALITY\n",
    "        else:\n",
    "            reward = self.MOVE_PENALITY\n",
    "\n",
    "        \n",
    "        terminated = False\n",
    "        if (\n",
    "            self.player == self.food\n",
    "            or self.player == self.enemy\n",
    "            or self.episode_step >= 200\n",
    "        ):\n",
    "            terminated = True\n",
    "\n",
    "        info = {}\n",
    "        \n",
    "        truncated = False\n",
    "        return new_observation, reward, terminated, truncated, info\n",
    "\n",
    "    def render(self):\n",
    "        img = self.get_image()\n",
    "        img = img.resize((400, 400))\n",
    "        cv2.imshow(\"Predatoc\", np.array(img))\n",
    "        if (\n",
    "            self.player == self.food\n",
    "            or self.player == self.enemy\n",
    "            or self.episode_step >= 200\n",
    "        ):\n",
    "            cv2.waitKey(1500)\n",
    "        else:\n",
    "            cv2.waitKey(200)\n",
    "\n",
    "    def get_image(self):\n",
    "        env = np.zeros((self.SIZE, self.SIZE, 3), dtype=np.uint8)\n",
    "        env[self.food.x][self.food.y] = self.d[self.FOOD_N]\n",
    "        env[self.player.x][self.player.y] = self.d[self.PLAYER_N]\n",
    "        env[self.enemy.x][self.enemy.y] = self.d[self.ENEMY_N]\n",
    "        img = Image.fromarray(env, \"RGB\")\n",
    "        return img"
   ]
  },
  {
   "cell_type": "code",
   "execution_count": 56,
   "metadata": {},
   "outputs": [],
   "source": [
    "env = envCube()\n",
    "check_env(env)"
   ]
  },
  {
   "cell_type": "code",
   "execution_count": 39,
   "metadata": {},
   "outputs": [
    {
     "name": "stdout",
     "output_type": "stream",
     "text": [
      "Using cuda device\n",
      "Wrapping the env with a `Monitor` wrapper\n",
      "Wrapping the env in a DummyVecEnv.\n"
     ]
    }
   ],
   "source": [
    "# model = A2C(\n",
    "#     \"MlpPolicy\",\n",
    "#     env,\n",
    "#     verbose=1,\n",
    "#     tensorboard_log=\"./tb_logs\",\n",
    "#     learning_rate=5e-4,\n",
    "#     # policy_kwargs={\n",
    "#     #     \"net_arch\": [dict(vf=[32, 32], pi=[16, 16])],\n",
    "#     #     \"activation_fn\": th.nn.ReLU,\n",
    "#     # },\n",
    "# )"
   ]
  },
  {
   "cell_type": "code",
   "execution_count": null,
   "metadata": {},
   "outputs": [],
   "source": [
    "model.policy"
   ]
  },
  {
   "cell_type": "code",
   "execution_count": null,
   "metadata": {},
   "outputs": [],
   "source": [
    "# model.learn(\n",
    "#     total_timesteps=int(1.5e6),\n",
    "#     progress_bar=True,\n",
    "#     tb_log_name=\"S20_A2C_Net_1M5\",\n",
    "# )\n",
    "# model.save(\"S20_A2C_Net_1M5\")"
   ]
  },
  {
   "cell_type": "code",
   "execution_count": 57,
   "metadata": {},
   "outputs": [
    {
     "name": "stdout",
     "output_type": "stream",
     "text": [
      "Wrapping the env with a `Monitor` wrapper\n",
      "Wrapping the env in a DummyVecEnv.\n"
     ]
    }
   ],
   "source": [
    "model = A2C.load(\"S20_A2C_Net_1M5\", env=env)"
   ]
  },
  {
   "cell_type": "code",
   "execution_count": 51,
   "metadata": {},
   "outputs": [
    {
     "name": "stdout",
     "output_type": "stream",
     "text": [
      "True 9\n",
      "True 13\n",
      "True -5\n",
      "True 19\n",
      "True 6\n",
      "True -311\n",
      "True 13\n",
      "True 1\n",
      "True 8\n",
      "True 3\n"
     ]
    }
   ],
   "source": [
    "# env测试代码\n",
    "eposides = 10\n",
    "for ep in range(eposides):\n",
    "    # 初始化\n",
    "    obs, _ = env.reset()\n",
    "    terminated = False\n",
    "    rewards = 0\n",
    "    while not terminated:\n",
    "        # action = env.action_space.sample()\n",
    "        action, _states = model.predict(obs, deterministic=True)\n",
    "        obs, reward, terminated, info, _ = env.step(action)\n",
    "        env.render()\n",
    "        rewards += reward\n",
    "    print(terminated,rewards)\n",
    "env.close()"
   ]
  },
  {
   "cell_type": "code",
   "execution_count": 61,
   "metadata": {},
   "outputs": [
    {
     "name": "stdout",
     "output_type": "stream",
     "text": [
      "9.4\n"
     ]
    },
    {
     "ename": "",
     "evalue": "",
     "output_type": "error",
     "traceback": [
      "\u001b[1;31m在当前单元格或上一个单元格中执行代码时 Kernel 崩溃。\n",
      "\u001b[1;31m请查看单元格中的代码，以确定故障的可能原因。\n",
      "\u001b[1;31m单击<a href='https://aka.ms/vscodeJupyterKernelCrash'>此处</a>了解详细信息。\n",
      "\u001b[1;31m有关更多详细信息，请查看 Jupyter <a href='command:jupyter.viewOutput'>log</a>。"
     ]
    }
   ],
   "source": [
    "mean_reward, std_reward = evaluate_policy(\n",
    "    model, model.get_env(), deterministic=False, render=False, n_eval_episodes=10\n",
    ")\n",
    "print(mean_reward)"
   ]
  },
  {
   "cell_type": "markdown",
   "metadata": {},
   "source": []
  }
 ],
 "metadata": {
  "kernelspec": {
   "display_name": "jupyter-py3.9",
   "language": "python",
   "name": "jupyter-py3.9"
  },
  "language_info": {
   "codemirror_mode": {
    "name": "ipython",
    "version": 3
   },
   "file_extension": ".py",
   "mimetype": "text/x-python",
   "name": "python",
   "nbconvert_exporter": "python",
   "pygments_lexer": "ipython3",
   "version": "3.9.18"
  }
 },
 "nbformat": 4,
 "nbformat_minor": 2
}
