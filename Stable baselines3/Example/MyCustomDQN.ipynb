{
 "cells": [
  {
   "cell_type": "code",
   "execution_count": 15,
   "metadata": {},
   "outputs": [],
   "source": [
    "import gymnasium as gym\n",
    "\n",
    "from stable_baselines3 import DQN\n",
    "from stable_baselines3.common.evaluation import evaluate_policy\n",
    "\n",
    "import numpy as np\n",
    "import os\n",
    "\n",
    "os.environ[\"TF_CPP_MIN_LOG_LEVEL\"] = \"2\""
   ]
  },
  {
   "cell_type": "code",
   "execution_count": 16,
   "metadata": {},
   "outputs": [],
   "source": [
    "# 创建环境\n",
    "env = gym.make(\"LunarLander-v2\")\n",
    "# env = gym.make(\"LunarLander-v2\",render_mode=\"human\")"
   ]
  },
  {
   "cell_type": "code",
   "execution_count": 17,
   "metadata": {},
   "outputs": [],
   "source": [
    "# print(env.action_space, env.action_space.sample()) 检测动作空间\n",
    "# 该环境观察空间为Box类型，Box(low,high,shape,dtype)即在[low,high]中取shape型的参数量\n",
    "# print(env.observation_space)"
   ]
  },
  {
   "cell_type": "code",
   "execution_count": 18,
   "metadata": {},
   "outputs": [
    {
     "name": "stdout",
     "output_type": "stream",
     "text": [
      "Wrapping the env with a `Monitor` wrapper\n",
      "Wrapping the env in a DummyVecEnv.\n"
     ]
    }
   ],
   "source": [
    "# 定义DQN训练模型\n",
    "# learning_rate: 学习率调整\n",
    "# policy_kwargs: 改变策略相关的参数\n",
    "\n",
    "# model = DQN(\n",
    "#     \"MlpPolicy\",\n",
    "#     env,\n",
    "#     verbose=1,\n",
    "#     tensorboard_log=\"./tb_logs\",\n",
    "#     learning_rate=7e-4,\n",
    "#     policy_kwargs={\"net_arch\": [128, 128]},\n",
    "# )\n",
    "model = DQN.load(\"DQN_256_2M5_lunar\", env=env)\n",
    "# model = DQN.load(\"DQN_256_2M_lunar_7e\", env=env)\n",
    "# model = DQN.load(\"DQN_128_2M_lunar_7e\", env=env)\n",
    "# model = DQN.load(\"DQN_128_1M_lunar\", env=env)"
   ]
  },
  {
   "cell_type": "code",
   "execution_count": 19,
   "metadata": {},
   "outputs": [],
   "source": [
    "# 训练\n",
    "# model.learn(total_timesteps=int(5e5), progress_bar=True, tb_log_name=\"DQN_256_2M5_lunar_7e\")\n",
    "# model.save(\"DQN_256_2M5_lunar\")\n",
    "# del model"
   ]
  },
  {
   "cell_type": "code",
   "execution_count": 20,
   "metadata": {},
   "outputs": [],
   "source": [
    "# 评估\n",
    "# mean_reward, std_reward = evaluate_policy(\n",
    "#     model, model.get_env(), deterministic=False, render=True, n_eval_episodes=10\n",
    "# )\n",
    "# print(mean_reward)"
   ]
  },
  {
   "cell_type": "code",
   "execution_count": null,
   "metadata": {},
   "outputs": [],
   "source": []
  },
  {
   "cell_type": "code",
   "execution_count": 21,
   "metadata": {},
   "outputs": [
    {
     "name": "stdout",
     "output_type": "stream",
     "text": [
      "244.10893480414433\n"
     ]
    },
    {
     "name": "stderr",
     "output_type": "stream",
     "text": [
      "d:\\Download\\Anaconda\\envs\\py3.9\\lib\\site-packages\\gymnasium\\envs\\box2d\\lunar_lander.py:681: UserWarning: \u001b[33mWARN: You are calling render method without specifying any render mode. You can specify the render_mode at initialization, e.g. gym.make(\"LunarLander-v2\", render_mode=\"rgb_array\")\u001b[0m\n",
      "  gym.logger.warn(\n"
     ]
    },
    {
     "name": "stdout",
     "output_type": "stream",
     "text": [
      "298.1049429902878\n",
      "274.69979559000114\n",
      "271.5241461554725\n",
      "310.1760013588223\n",
      "308.7631641746414\n",
      "278.9361357184132\n",
      "266.7862729990569\n"
     ]
    },
    {
     "ename": "",
     "evalue": "",
     "output_type": "error",
     "traceback": [
      "\u001b[1;31m在当前单元格或上一个单元格中执行代码时 Kernel 崩溃。\n",
      "\u001b[1;31m请查看单元格中的代码，以确定故障的可能原因。\n",
      "\u001b[1;31m单击<a href='https://aka.ms/vscodeJupyterKernelCrash'>此处</a>了解详细信息。\n",
      "\u001b[1;31m有关更多详细信息，请查看 Jupyter <a href='command:jupyter.viewOutput'>log</a>。"
     ]
    }
   ],
   "source": [
    "# # # env测试代码\n",
    "eposides = 10\n",
    "for ep in range(eposides):\n",
    "    # 初始化\n",
    "    obs, _ = env.reset()\n",
    "    # print(type(obs))\n",
    "    # break\n",
    "    done = False\n",
    "    rewards = 0\n",
    "    while not done:\n",
    "        # action = env.action_space.sample()\n",
    "        action, _states = model.predict(obs, deterministic=True)\n",
    "        obs, reward, done, info, _ = env.step(action)\n",
    "        env.render()\n",
    "        rewards += reward\n",
    "    print(rewards)"
   ]
  },
  {
   "cell_type": "code",
   "execution_count": null,
   "metadata": {},
   "outputs": [],
   "source": [
    "env.close()"
   ]
  }
 ],
 "metadata": {
  "kernelspec": {
   "display_name": "jupyter-py3.9",
   "language": "python",
   "name": "jupyter-py3.9"
  },
  "language_info": {
   "codemirror_mode": {
    "name": "ipython",
    "version": 3
   },
   "file_extension": ".py",
   "mimetype": "text/x-python",
   "name": "python",
   "nbconvert_exporter": "python",
   "pygments_lexer": "ipython3",
   "version": "3.9.18"
  }
 },
 "nbformat": 4,
 "nbformat_minor": 2
}
